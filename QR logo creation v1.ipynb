{
 "cells": [
  {
   "cell_type": "code",
   "execution_count": 7,
   "metadata": {},
   "outputs": [],
   "source": [
    "# import modules\n",
    "import qrcode\n",
    "from PIL import Image\n",
    "from pathlib import Path\n"
   ]
  },
  {
   "cell_type": "code",
   "execution_count": 8,
   "metadata": {},
   "outputs": [
    {
     "name": "stdout",
     "output_type": "stream",
     "text": [
      "lightning:LNURL1DP68GURN8GHJ7AMPD3KX2AR0VEEKZAR0WD5XJTNRDAKJ7TNHV4KXCTTTDEHHWM30D3H82UNVWQHHXARPD3JHYMMVDS6RWPJJK54\n",
      "QR code generated!\n"
     ]
    },
    {
     "name": "stderr",
     "output_type": "stream",
     "text": [
      "C:\\Users\\dawgface\\AppData\\Local\\Temp\\ipykernel_17340\\3435104924.py:12: DeprecationWarning: ANTIALIAS is deprecated and will be removed in Pillow 10 (2023-07-01). Use Resampling.LANCZOS instead.\n",
      "  logo = logo.resize((basewidth, hsize), Image.ANTIALIAS)\n"
     ]
    }
   ],
   "source": [
    "# taking image which user wants\n",
    "# in the QR code center\n",
    "\n",
    "data_folder = Path(\"C:/Users/dawgface/Documents/Lightning/QR codes\")\n",
    "\n",
    "Logo_link = data_folder / \"eric - face.png\"\n",
    "\n",
    "logo = Image.open(Logo_link) \n",
    "basewidth = 200# taking base width\n",
    "wpercent = (basewidth/float(logo.size[0]))\n",
    "hsize = int((float(logo.size[1])*float(wpercent)))\n",
    "logo = logo.resize((basewidth, hsize), Image.ANTIALIAS)\n",
    "QRcode = qrcode.QRCode(\n",
    "    error_correction=qrcode.constants.ERROR_CORRECT_H\n",
    ")\n",
    "\n",
    "lnaddress = 'LNURL1DP68GURN8GHJ7AMPD3KX2AR0VEEKZAR0WD5XJTNRDAKJ7TNHV4KXCTTTDEHHWM30D3H82UNVWQHHXARPD3JHYMMVDS6RWPJJK54'\n",
    "qrmessage = 'lightning:' + lnaddress\n",
    "print(qrmessage)\n",
    "\n",
    "QRcode.add_data(qrmessage)\n",
    " \n",
    "# generating QR code\n",
    "QRcode.make()\n",
    " \n",
    "# taking color name from user\n",
    "QRcolor = 'Black'\n",
    "\n",
    "QRimg = QRcode.make_image(\n",
    "    fill_color=QRcolor, back_color=\"white\").convert('RGB')# adding color to QR code\n",
    "\n",
    "# set size of QR code\n",
    "pos = ((QRimg.size[0] - logo.size[0]) // 2,\n",
    "       (QRimg.size[1] - logo.size[1]) // 2)\n",
    "QRimg.paste(logo, pos)\n",
    " \n",
    "# save the QR code generated\n",
    "output_file = 'QRcode-eric-H.png'\n",
    "output_link = data_folder / output_file\n",
    "\n",
    "\n",
    "QRimg.save(output_file)\n",
    "\n",
    "\n",
    "im = Image.open(output_link)#read the image\n",
    "\n",
    "\n",
    "#im.show()show image\n",
    " \n",
    "print('QR code generated!')"
   ]
  },
  {
   "cell_type": "code",
   "execution_count": null,
   "metadata": {},
   "outputs": [],
   "source": [
    "\n",
    "\n",
    " \n"
   ]
  },
  {
   "cell_type": "code",
   "execution_count": null,
   "metadata": {},
   "outputs": [],
   "source": []
  }
 ],
 "metadata": {
  "kernelspec": {
   "display_name": "Python 3 (ipykernel)",
   "language": "python",
   "name": "python3"
  },
  "language_info": {
   "codemirror_mode": {
    "name": "ipython",
    "version": 3
   },
   "file_extension": ".py",
   "mimetype": "text/x-python",
   "name": "python",
   "nbconvert_exporter": "python",
   "pygments_lexer": "ipython3",
   "version": "3.9.13"
  }
 },
 "nbformat": 4,
 "nbformat_minor": 2
}
